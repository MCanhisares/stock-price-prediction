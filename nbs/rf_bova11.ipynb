{
 "cells": [
  {
   "cell_type": "code",
   "execution_count": 83,
   "metadata": {},
   "outputs": [],
   "source": [
    "import numpy as np\n",
    "import matplotlib.pyplot as plt\n",
    "import seaborn as sns\n",
    "import pandas as pd\n",
    "import gc\n",
    "import data_utils as dutils\n",
    "import math\n",
    "from pathlib import Path\n",
    "from datetime import datetime\n",
    "\n",
    "sns.set_style('whitegrid')\n",
    "plt.style.use(\"fivethirtyeight\")\n",
    "\n",
    "%matplotlib inline"
   ]
  },
  {
   "cell_type": "code",
   "execution_count": 136,
   "metadata": {},
   "outputs": [],
   "source": [
    "def rmse(x,y): return math.sqrt(((x-y)**2).mean())\n",
    "\n",
    "def get_score(m):\n",
    "    res = [rmse(m.predict(X_train), y_train), rmse(m.predict(X_val), y_val),\n",
    "                m.score(X_train, y_train), m.score(X_val, y_val)]\n",
    "    return res"
   ]
  },
  {
   "cell_type": "code",
   "execution_count": 104,
   "metadata": {},
   "outputs": [],
   "source": [
    "df = dutils.loadData()\n",
    "df = df.drop(columns=['CODNEG'])"
   ]
  },
  {
   "cell_type": "code",
   "execution_count": 105,
   "metadata": {},
   "outputs": [
    {
     "data": {
      "text/html": [
       "<div>\n",
       "<style scoped>\n",
       "    .dataframe tbody tr th:only-of-type {\n",
       "        vertical-align: middle;\n",
       "    }\n",
       "\n",
       "    .dataframe tbody tr th {\n",
       "        vertical-align: top;\n",
       "    }\n",
       "\n",
       "    .dataframe thead th {\n",
       "        text-align: right;\n",
       "    }\n",
       "</style>\n",
       "<table border=\"1\" class=\"dataframe\">\n",
       "  <thead>\n",
       "    <tr style=\"text-align: right;\">\n",
       "      <th></th>\n",
       "      <th>PREABE</th>\n",
       "      <th>PREMAX</th>\n",
       "      <th>PREMIN</th>\n",
       "      <th>PREMED</th>\n",
       "      <th>PREULT</th>\n",
       "      <th>PREOFC</th>\n",
       "      <th>PREOFV</th>\n",
       "      <th>TOTNEG</th>\n",
       "      <th>QUATOT</th>\n",
       "      <th>VOLTOT</th>\n",
       "    </tr>\n",
       "    <tr>\n",
       "      <th>DATPRG</th>\n",
       "      <th></th>\n",
       "      <th></th>\n",
       "      <th></th>\n",
       "      <th></th>\n",
       "      <th></th>\n",
       "      <th></th>\n",
       "      <th></th>\n",
       "      <th></th>\n",
       "      <th></th>\n",
       "      <th></th>\n",
       "    </tr>\n",
       "  </thead>\n",
       "  <tbody>\n",
       "    <tr>\n",
       "      <th>2020-01-02</th>\n",
       "      <td>112.45</td>\n",
       "      <td>114.24</td>\n",
       "      <td>112.13</td>\n",
       "      <td>113.41</td>\n",
       "      <td>114.24</td>\n",
       "      <td>114.24</td>\n",
       "      <td>114.27</td>\n",
       "      <td>44941</td>\n",
       "      <td>5684380</td>\n",
       "      <td>644704844.5</td>\n",
       "    </tr>\n",
       "    <tr>\n",
       "      <th>2020-01-03</th>\n",
       "      <td>112.93</td>\n",
       "      <td>114.50</td>\n",
       "      <td>112.80</td>\n",
       "      <td>113.67</td>\n",
       "      <td>113.80</td>\n",
       "      <td>113.79</td>\n",
       "      <td>113.80</td>\n",
       "      <td>41215</td>\n",
       "      <td>6602450</td>\n",
       "      <td>750525102.8</td>\n",
       "    </tr>\n",
       "    <tr>\n",
       "      <th>2020-01-06</th>\n",
       "      <td>113.00</td>\n",
       "      <td>113.45</td>\n",
       "      <td>112.02</td>\n",
       "      <td>112.69</td>\n",
       "      <td>112.59</td>\n",
       "      <td>112.50</td>\n",
       "      <td>112.59</td>\n",
       "      <td>49161</td>\n",
       "      <td>6771940</td>\n",
       "      <td>763170182.1</td>\n",
       "    </tr>\n",
       "    <tr>\n",
       "      <th>2020-01-07</th>\n",
       "      <td>112.90</td>\n",
       "      <td>112.90</td>\n",
       "      <td>111.59</td>\n",
       "      <td>112.15</td>\n",
       "      <td>112.24</td>\n",
       "      <td>112.24</td>\n",
       "      <td>112.50</td>\n",
       "      <td>82364</td>\n",
       "      <td>6096900</td>\n",
       "      <td>683798812.7</td>\n",
       "    </tr>\n",
       "    <tr>\n",
       "      <th>2020-01-08</th>\n",
       "      <td>112.65</td>\n",
       "      <td>113.10</td>\n",
       "      <td>111.40</td>\n",
       "      <td>112.09</td>\n",
       "      <td>111.95</td>\n",
       "      <td>111.90</td>\n",
       "      <td>111.95</td>\n",
       "      <td>46982</td>\n",
       "      <td>6472610</td>\n",
       "      <td>725559204.5</td>\n",
       "    </tr>\n",
       "  </tbody>\n",
       "</table>\n",
       "</div>"
      ],
      "text/plain": [
       "            PREABE  PREMAX  PREMIN  PREMED  PREULT  PREOFC  PREOFV  TOTNEG  \\\n",
       "DATPRG                                                                       \n",
       "2020-01-02  112.45  114.24  112.13  113.41  114.24  114.24  114.27   44941   \n",
       "2020-01-03  112.93  114.50  112.80  113.67  113.80  113.79  113.80   41215   \n",
       "2020-01-06  113.00  113.45  112.02  112.69  112.59  112.50  112.59   49161   \n",
       "2020-01-07  112.90  112.90  111.59  112.15  112.24  112.24  112.50   82364   \n",
       "2020-01-08  112.65  113.10  111.40  112.09  111.95  111.90  111.95   46982   \n",
       "\n",
       "             QUATOT       VOLTOT  \n",
       "DATPRG                            \n",
       "2020-01-02  5684380  644704844.5  \n",
       "2020-01-03  6602450  750525102.8  \n",
       "2020-01-06  6771940  763170182.1  \n",
       "2020-01-07  6096900  683798812.7  \n",
       "2020-01-08  6472610  725559204.5  "
      ]
     },
     "execution_count": 105,
     "metadata": {},
     "output_type": "execute_result"
    }
   ],
   "source": [
    "df.head()"
   ]
  },
  {
   "cell_type": "code",
   "execution_count": 106,
   "metadata": {},
   "outputs": [],
   "source": [
    "START_DATE = '2020-05-01'\n",
    "END_DATE = '2020-10-31'\n",
    "SPLIT_TRAIN = '2020-09-15'\n",
    "SPLIT_TEST = '2020-09-16'\n",
    "FEATURES = ['PREABE','PREMAX','PREMIN','PREMED','PREOFC','PREOFV','TOTNEG','QUATOT','VOLTOT']\n",
    "Y = ['PREULT']"
   ]
  },
  {
   "cell_type": "code",
   "execution_count": 108,
   "metadata": {},
   "outputs": [],
   "source": [
    "df = df[START_DATE: END_DATE]"
   ]
  },
  {
   "cell_type": "code",
   "execution_count": 109,
   "metadata": {},
   "outputs": [
    {
     "data": {
      "text/html": [
       "<div>\n",
       "<style scoped>\n",
       "    .dataframe tbody tr th:only-of-type {\n",
       "        vertical-align: middle;\n",
       "    }\n",
       "\n",
       "    .dataframe tbody tr th {\n",
       "        vertical-align: top;\n",
       "    }\n",
       "\n",
       "    .dataframe thead th {\n",
       "        text-align: right;\n",
       "    }\n",
       "</style>\n",
       "<table border=\"1\" class=\"dataframe\">\n",
       "  <thead>\n",
       "    <tr style=\"text-align: right;\">\n",
       "      <th></th>\n",
       "      <th>PREABE</th>\n",
       "      <th>PREMAX</th>\n",
       "      <th>PREMIN</th>\n",
       "      <th>PREMED</th>\n",
       "      <th>PREULT</th>\n",
       "      <th>PREOFC</th>\n",
       "      <th>PREOFV</th>\n",
       "      <th>TOTNEG</th>\n",
       "      <th>QUATOT</th>\n",
       "      <th>VOLTOT</th>\n",
       "    </tr>\n",
       "    <tr>\n",
       "      <th>DATPRG</th>\n",
       "      <th></th>\n",
       "      <th></th>\n",
       "      <th></th>\n",
       "      <th></th>\n",
       "      <th></th>\n",
       "      <th></th>\n",
       "      <th></th>\n",
       "      <th></th>\n",
       "      <th></th>\n",
       "      <th></th>\n",
       "    </tr>\n",
       "  </thead>\n",
       "  <tbody>\n",
       "    <tr>\n",
       "      <th>2020-05-04</th>\n",
       "      <td>75.17</td>\n",
       "      <td>76.30</td>\n",
       "      <td>74.77</td>\n",
       "      <td>75.44</td>\n",
       "      <td>76.10</td>\n",
       "      <td>76.10</td>\n",
       "      <td>76.12</td>\n",
       "      <td>79102</td>\n",
       "      <td>10111650</td>\n",
       "      <td>7.628309e+08</td>\n",
       "    </tr>\n",
       "    <tr>\n",
       "      <th>2020-05-05</th>\n",
       "      <td>77.00</td>\n",
       "      <td>78.14</td>\n",
       "      <td>76.20</td>\n",
       "      <td>77.24</td>\n",
       "      <td>76.54</td>\n",
       "      <td>76.54</td>\n",
       "      <td>76.69</td>\n",
       "      <td>3272</td>\n",
       "      <td>11236200</td>\n",
       "      <td>8.679041e+08</td>\n",
       "    </tr>\n",
       "    <tr>\n",
       "      <th>2020-05-06</th>\n",
       "      <td>76.82</td>\n",
       "      <td>77.06</td>\n",
       "      <td>75.15</td>\n",
       "      <td>76.04</td>\n",
       "      <td>76.20</td>\n",
       "      <td>76.18</td>\n",
       "      <td>76.20</td>\n",
       "      <td>6996</td>\n",
       "      <td>6296420</td>\n",
       "      <td>4.787982e+08</td>\n",
       "    </tr>\n",
       "    <tr>\n",
       "      <th>2020-05-07</th>\n",
       "      <td>77.08</td>\n",
       "      <td>77.21</td>\n",
       "      <td>75.17</td>\n",
       "      <td>76.06</td>\n",
       "      <td>75.40</td>\n",
       "      <td>75.40</td>\n",
       "      <td>75.67</td>\n",
       "      <td>12708</td>\n",
       "      <td>12412860</td>\n",
       "      <td>9.442111e+08</td>\n",
       "    </tr>\n",
       "    <tr>\n",
       "      <th>2020-05-08</th>\n",
       "      <td>76.94</td>\n",
       "      <td>77.58</td>\n",
       "      <td>76.50</td>\n",
       "      <td>77.00</td>\n",
       "      <td>77.43</td>\n",
       "      <td>77.40</td>\n",
       "      <td>77.43</td>\n",
       "      <td>47653</td>\n",
       "      <td>10911150</td>\n",
       "      <td>8.402252e+08</td>\n",
       "    </tr>\n",
       "    <tr>\n",
       "      <th>...</th>\n",
       "      <td>...</td>\n",
       "      <td>...</td>\n",
       "      <td>...</td>\n",
       "      <td>...</td>\n",
       "      <td>...</td>\n",
       "      <td>...</td>\n",
       "      <td>...</td>\n",
       "      <td>...</td>\n",
       "      <td>...</td>\n",
       "      <td>...</td>\n",
       "    </tr>\n",
       "    <tr>\n",
       "      <th>2020-10-26</th>\n",
       "      <td>97.00</td>\n",
       "      <td>97.99</td>\n",
       "      <td>96.02</td>\n",
       "      <td>97.14</td>\n",
       "      <td>97.23</td>\n",
       "      <td>97.23</td>\n",
       "      <td>97.25</td>\n",
       "      <td>46301</td>\n",
       "      <td>8803970</td>\n",
       "      <td>8.552515e+08</td>\n",
       "    </tr>\n",
       "    <tr>\n",
       "      <th>2020-10-27</th>\n",
       "      <td>97.41</td>\n",
       "      <td>97.88</td>\n",
       "      <td>95.63</td>\n",
       "      <td>96.39</td>\n",
       "      <td>95.68</td>\n",
       "      <td>95.66</td>\n",
       "      <td>95.68</td>\n",
       "      <td>32090</td>\n",
       "      <td>9534310</td>\n",
       "      <td>9.191005e+08</td>\n",
       "    </tr>\n",
       "    <tr>\n",
       "      <th>2020-10-28</th>\n",
       "      <td>94.00</td>\n",
       "      <td>94.08</td>\n",
       "      <td>91.56</td>\n",
       "      <td>92.52</td>\n",
       "      <td>91.56</td>\n",
       "      <td>91.56</td>\n",
       "      <td>91.60</td>\n",
       "      <td>28103</td>\n",
       "      <td>18677788</td>\n",
       "      <td>1.728168e+09</td>\n",
       "    </tr>\n",
       "    <tr>\n",
       "      <th>2020-10-29</th>\n",
       "      <td>91.57</td>\n",
       "      <td>93.12</td>\n",
       "      <td>89.91</td>\n",
       "      <td>91.91</td>\n",
       "      <td>92.80</td>\n",
       "      <td>92.78</td>\n",
       "      <td>92.80</td>\n",
       "      <td>94010</td>\n",
       "      <td>17470878</td>\n",
       "      <td>1.605760e+09</td>\n",
       "    </tr>\n",
       "    <tr>\n",
       "      <th>2020-10-30</th>\n",
       "      <td>92.23</td>\n",
       "      <td>92.45</td>\n",
       "      <td>90.03</td>\n",
       "      <td>90.78</td>\n",
       "      <td>90.66</td>\n",
       "      <td>90.65</td>\n",
       "      <td>90.66</td>\n",
       "      <td>44566</td>\n",
       "      <td>20957049</td>\n",
       "      <td>1.902595e+09</td>\n",
       "    </tr>\n",
       "  </tbody>\n",
       "</table>\n",
       "<p>127 rows × 10 columns</p>\n",
       "</div>"
      ],
      "text/plain": [
       "            PREABE  PREMAX  PREMIN  PREMED  PREULT  PREOFC  PREOFV  TOTNEG  \\\n",
       "DATPRG                                                                       \n",
       "2020-05-04   75.17   76.30   74.77   75.44   76.10   76.10   76.12   79102   \n",
       "2020-05-05   77.00   78.14   76.20   77.24   76.54   76.54   76.69    3272   \n",
       "2020-05-06   76.82   77.06   75.15   76.04   76.20   76.18   76.20    6996   \n",
       "2020-05-07   77.08   77.21   75.17   76.06   75.40   75.40   75.67   12708   \n",
       "2020-05-08   76.94   77.58   76.50   77.00   77.43   77.40   77.43   47653   \n",
       "...            ...     ...     ...     ...     ...     ...     ...     ...   \n",
       "2020-10-26   97.00   97.99   96.02   97.14   97.23   97.23   97.25   46301   \n",
       "2020-10-27   97.41   97.88   95.63   96.39   95.68   95.66   95.68   32090   \n",
       "2020-10-28   94.00   94.08   91.56   92.52   91.56   91.56   91.60   28103   \n",
       "2020-10-29   91.57   93.12   89.91   91.91   92.80   92.78   92.80   94010   \n",
       "2020-10-30   92.23   92.45   90.03   90.78   90.66   90.65   90.66   44566   \n",
       "\n",
       "              QUATOT        VOLTOT  \n",
       "DATPRG                              \n",
       "2020-05-04  10111650  7.628309e+08  \n",
       "2020-05-05  11236200  8.679041e+08  \n",
       "2020-05-06   6296420  4.787982e+08  \n",
       "2020-05-07  12412860  9.442111e+08  \n",
       "2020-05-08  10911150  8.402252e+08  \n",
       "...              ...           ...  \n",
       "2020-10-26   8803970  8.552515e+08  \n",
       "2020-10-27   9534310  9.191005e+08  \n",
       "2020-10-28  18677788  1.728168e+09  \n",
       "2020-10-29  17470878  1.605760e+09  \n",
       "2020-10-30  20957049  1.902595e+09  \n",
       "\n",
       "[127 rows x 10 columns]"
      ]
     },
     "execution_count": 109,
     "metadata": {},
     "output_type": "execute_result"
    }
   ],
   "source": [
    "df"
   ]
  },
  {
   "cell_type": "code",
   "execution_count": 110,
   "metadata": {},
   "outputs": [],
   "source": [
    "train_df = df[:SPLIT_TRAIN]\n",
    "test_df = df[SPLIT_TEST:]"
   ]
  },
  {
   "cell_type": "code",
   "execution_count": 111,
   "metadata": {},
   "outputs": [],
   "source": [
    "X_train, y_train = train_df[FEATURES], np.array(train_df[Y]).flatten()\n",
    "X_val, y_val = test_df[FEATURES], np.array(test_df[Y]).flatten()"
   ]
  },
  {
   "cell_type": "code",
   "execution_count": 168,
   "metadata": {},
   "outputs": [],
   "source": [
    "from sklearn import metrics\n",
    "from sklearn.model_selection import GridSearchCV, ShuffleSplit\n",
    "from sklearn.ensemble import RandomForestRegressor"
   ]
  },
  {
   "cell_type": "code",
   "execution_count": null,
   "metadata": {},
   "outputs": [],
   "source": [
    "results = []\n",
    "for est in range(1, 20):\n",
    "    for leaves in range(1, 20):\n",
    "        model = RandomForestRegressor(n_estimators=est, bootstrap=True, min_samples_leaf=leaves)\n",
    "        model.fit(train_x, train_y)\n",
    "        score = get_score(model)        \n",
    "        results.append({ 'est': est, 'leaves': leaves, 'score': score})\n",
    "        \n",
    "for result in results:\n",
    "    print(f\"trees: {result['est']}  leaves: {result['leaves']} \\n score: rmse train {result['score'][0]}, rmse val {result['score'][1]}, r^2 train {result['score'][2]}, r^2 val {result['score'][3]}\")"
   ]
  },
  {
   "cell_type": "code",
   "execution_count": null,
   "metadata": {},
   "outputs": [],
   "source": [
    "estimators = range(1, 20)\n",
    "leaves = range(1,40)\n",
    "parameters = {\n",
    "    \"n_estimators\": estimators,\n",
    "    \"min_samples_leaf\": leaves,\n",
    "    }\n",
    "cv = ShuffleSplit(test_size=0.01, n_splits=1)\n",
    "grid = GridSearchCV(RandomForestRegressor(bootstrap=True), parameters, cv=cv, verbose=1, return_train_score=True)\n",
    "grid.fit(train_x, train_y)"
   ]
  },
  {
   "cell_type": "code",
   "execution_count": 171,
   "metadata": {},
   "outputs": [
    {
     "name": "stdout",
     "output_type": "stream",
     "text": [
      "rmse train 0.571724077726861, rmse val 0.42575300938455013, r^2 train 0.9946575650637363, r^2 val 0.9630548865304571\n"
     ]
    }
   ],
   "source": [
    "print_score(grid)"
   ]
  },
  {
   "cell_type": "code",
   "execution_count": 172,
   "metadata": {},
   "outputs": [
    {
     "data": {
      "text/plain": [
       "1"
      ]
     },
     "execution_count": 172,
     "metadata": {},
     "output_type": "execute_result"
    }
   ],
   "source": [
    "model.estimators_[0].get_depth()"
   ]
  },
  {
   "cell_type": "code",
   "execution_count": 173,
   "metadata": {},
   "outputs": [
    {
     "data": {
      "text/plain": [
       "array([95.91, 96.37, 94.64, 93.4 , 93.67, 92.17, 93.3 , 93.5 , 91.2 ,\n",
       "       89.92, 91.05, 91.91, 90.11, 92.64, 92.03, 91.95, 94.27, 93.65,\n",
       "       94.8 , 95.59, 95.34, 94.54, 95.  , 96.67, 96.65, 98.06, 97.44,\n",
       "       97.23, 95.68, 91.56, 92.8 , 90.66])"
      ]
     },
     "execution_count": 173,
     "metadata": {},
     "output_type": "execute_result"
    }
   ],
   "source": [
    "y_val"
   ]
  },
  {
   "cell_type": "code",
   "execution_count": 174,
   "metadata": {},
   "outputs": [
    {
     "data": {
      "text/plain": [
       "array([96.06242742, 96.06242742, 96.06242742, 96.06242742, 96.06242742,\n",
       "       93.35403189, 96.06242742, 96.06242742, 87.76538303, 82.87936322,\n",
       "       86.27361621, 91.25197428, 84.62967534, 94.60756151, 93.35403189,\n",
       "       92.75427112, 96.06242742, 96.06242742, 96.06242742, 96.06242742,\n",
       "       96.06242742, 96.06242742, 96.06242742, 96.39528706, 96.39528706,\n",
       "       97.42854032, 97.42854032, 97.16428195, 96.06242742, 90.5249512 ,\n",
       "       95.2955009 , 85.50668969])"
      ]
     },
     "execution_count": 174,
     "metadata": {},
     "output_type": "execute_result"
    }
   ],
   "source": [
    "model.predict(X_val)"
   ]
  },
  {
   "cell_type": "code",
   "execution_count": 156,
   "metadata": {},
   "outputs": [
    {
     "name": "stdout",
     "output_type": "stream",
     "text": [
      "Trees: 19, Mean of 0th row for prediction from all trees: : 95.99145907538623, Actual y: 95.91\n"
     ]
    }
   ],
   "source": [
    "preds = np.stack([t.predict(X_val) for t in model.estimators_])\n",
    "print(f\"Trees: {len(preds[:,0])},\", f\"Mean of 0th row for prediction from all trees: : {np.mean(preds[:,0])},\", f\"Actual y: {y_val[0]}\")"
   ]
  },
  {
   "cell_type": "code",
   "execution_count": 161,
   "metadata": {},
   "outputs": [
    {
     "data": {
      "text/plain": [
       "array([96.64301107, 96.64301107, 96.64301107, 96.64301107, 96.64301107,\n",
       "       96.64301107, 96.64301107, 96.64301107, 91.67669136, 86.51001474,\n",
       "       91.67669136, 91.67669136, 91.67669136, 91.67669136, 96.64301107,\n",
       "       96.64301107, 96.64301107, 96.64301107, 96.64301107, 96.64301107,\n",
       "       96.64301107, 96.64301107, 96.64301107, 96.64301107, 96.64301107,\n",
       "       96.64301107, 96.64301107, 96.64301107, 96.64301107, 96.64301107,\n",
       "       91.67669136, 86.51001474])"
      ]
     },
     "execution_count": 161,
     "metadata": {},
     "output_type": "execute_result"
    }
   ],
   "source": [
    "np.mean(preds[:3], axis=0)"
   ]
  },
  {
   "cell_type": "code",
   "execution_count": 157,
   "metadata": {},
   "outputs": [
    {
     "data": {
      "text/plain": [
       "[<matplotlib.lines.Line2D at 0x7f9555ece610>]"
      ]
     },
     "execution_count": 157,
     "metadata": {},
     "output_type": "execute_result"
    },
    {
     "data": {
      "image/png": "[encoded data removed]",
      "text/plain": [
       "<Figure size 432x288 with 1 Axes>"
      ]
     },
     "metadata": {
      "needs_background": "light"
     },
     "output_type": "display_data"
    }
   ],
   "source": [
    "plt.plot([metrics.r2_score(y_val, np.mean(preds[:i+1], axis=0)) for i in range(30)])"
   ]
  },
  {
   "cell_type": "code",
   "execution_count": null,
   "metadata": {},
   "outputs": [],
   "source": []
  }
 ],
 "metadata": {
  "kernelspec": {
   "display_name": "Python [conda env:root] *",
   "language": "python",
   "name": "conda-root-py"
  },
  "language_info": {
   "codemirror_mode": {
    "name": "ipython",
    "version": 3
   },
   "file_extension": ".py",
   "mimetype": "text/x-python",
   "name": "python",
   "nbconvert_exporter": "python",
   "pygments_lexer": "ipython3",
   "version": "3.7.4"
  }
 },
 "nbformat": 4,
 "nbformat_minor": 4
}
