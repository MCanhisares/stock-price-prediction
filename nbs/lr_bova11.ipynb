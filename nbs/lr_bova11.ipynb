{
 "cells": [
  {
   "cell_type": "code",
   "execution_count": 4,
   "metadata": {},
   "outputs": [],
   "source": [
    "import numpy as np\n",
    "import matplotlib.pyplot as plt\n",
    "import seaborn as sns\n",
    "import pandas as pd\n",
    "import gc\n",
    "import data_utils as dutils\n",
    "import math\n",
    "from pathlib import Path\n",
    "from datetime import datetime\n",
    "from sklearn.linear_model import LinearRegression\n",
    "\n",
    "sns.set_style('whitegrid')\n",
    "plt.style.use(\"fivethirtyeight\")\n",
    "\n",
    "%matplotlib inline"
   ]
  },
  {
   "cell_type": "code",
   "execution_count": 2,
   "metadata": {},
   "outputs": [],
   "source": [
    "def rmse(x,y): return math.sqrt(((x-y)**2).mean())\n",
    "\n",
    "def get_score(m):\n",
    "    res = [rmse(m.predict(X_train), y_train), rmse(m.predict(X_val), y_val),\n",
    "                m.score(X_train, y_train), m.score(X_val, y_val)]\n",
    "    return res"
   ]
  },
  {
   "cell_type": "code",
   "execution_count": 3,
   "metadata": {},
   "outputs": [],
   "source": [
    "df = dutils.loadData()\n",
    "X_train, y_train, X_val, y_val = dutils.getTrainTestSets(df)"
   ]
  },
  {
   "cell_type": "code",
   "execution_count": 5,
   "metadata": {},
   "outputs": [
    {
     "data": {
      "text/plain": [
       "LinearRegression()"
      ]
     },
     "execution_count": 5,
     "metadata": {},
     "output_type": "execute_result"
    }
   ],
   "source": [
    "reg = LinearRegression()\n",
    "reg.fit(X_train, y_train)"
   ]
  },
  {
   "cell_type": "code",
   "execution_count": 6,
   "metadata": {},
   "outputs": [
    {
     "data": {
      "text/plain": [
       "[0.05473036046158591,\n",
       " 0.03483595237330762,\n",
       " 0.9999848080371728,\n",
       " 0.9998187806416898]"
      ]
     },
     "execution_count": 6,
     "metadata": {},
     "output_type": "execute_result"
    }
   ],
   "source": [
    "get_score(reg)"
   ]
  },
  {
   "cell_type": "code",
   "execution_count": 9,
   "metadata": {},
   "outputs": [],
   "source": [
    "preds = reg.predict(X_val)"
   ]
  },
  {
   "cell_type": "code",
   "execution_count": 10,
   "metadata": {},
   "outputs": [
    {
     "data": {
      "text/plain": [
       "(array([ 95.92294445,  96.34365793,  94.63948876,  93.42419303,\n",
       "         93.55727525,  92.22534759,  93.33374415,  93.48192569,\n",
       "         91.22694024,  89.91474905,  91.03104924,  91.92600212,\n",
       "         90.14371239,  92.62673155,  92.01700938,  91.97642817,\n",
       "         94.20943458,  93.68555562,  94.82136366,  95.60385373,\n",
       "         95.33937206,  94.53542558,  94.99018106,  96.68517377,\n",
       "         96.62919191,  98.07960509,  97.45271754,  97.24844915,\n",
       "         95.67880985,  91.5996317 ,  92.82857763,  90.69520189,\n",
       "         92.35897597,  94.18263923,  96.97769444,  97.19838983,\n",
       "         99.5423869 , 101.00805375]),\n",
       " array([ 95.91,  96.37,  94.64,  93.4 ,  93.67,  92.17,  93.3 ,  93.5 ,\n",
       "         91.2 ,  89.92,  91.05,  91.91,  90.11,  92.64,  92.03,  91.95,\n",
       "         94.27,  93.65,  94.8 ,  95.59,  95.34,  94.54,  95.  ,  96.67,\n",
       "         96.65,  98.06,  97.44,  97.23,  95.68,  91.56,  92.8 ,  90.66,\n",
       "         92.26,  94.16,  96.95,  97.19,  99.5 , 101.  ]))"
      ]
     },
     "execution_count": 10,
     "metadata": {},
     "output_type": "execute_result"
    }
   ],
   "source": [
    "preds, y_val"
   ]
  },
  {
   "cell_type": "code",
   "execution_count": null,
   "metadata": {},
   "outputs": [],
   "source": []
  }
 ],
 "metadata": {
  "kernelspec": {
   "display_name": "Python [conda env:root] *",
   "language": "python",
   "name": "conda-root-py"
  },
  "language_info": {
   "codemirror_mode": {
    "name": "ipython",
    "version": 3
   },
   "file_extension": ".py",
   "mimetype": "text/x-python",
   "name": "python",
   "nbconvert_exporter": "python",
   "pygments_lexer": "ipython3",
   "version": "3.7.4"
  }
 },
 "nbformat": 4,
 "nbformat_minor": 4
}
