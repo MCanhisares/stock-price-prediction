{
 "cells": [
  {
   "cell_type": "code",
   "execution_count": 15,
   "metadata": {},
   "outputs": [],
   "source": [
    "import numpy as np\n",
    "import matplotlib.pyplot as plt\n",
    "import seaborn as sns\n",
    "import pandas as pd\n",
    "import gc\n",
    "import data_utils as dutils\n",
    "import math\n",
    "from pathlib import Path\n",
    "from datetime import datetime\n",
    "from sklearn.linear_model import BayesianRidge\n",
    "from sklearn.model_selection import GridSearchCV, ShuffleSplit\n",
    "\n",
    "sns.set_style('whitegrid')\n",
    "plt.style.use(\"fivethirtyeight\")\n",
    "\n",
    "%matplotlib inline"
   ]
  },
  {
   "cell_type": "code",
   "execution_count": 5,
   "metadata": {},
   "outputs": [],
   "source": [
    "def rmse(x,y): return math.sqrt(((x-y)**2).mean())\n",
    "\n",
    "def get_score(m):\n",
    "    res = [rmse(m.predict(X_train), y_train), rmse(m.predict(X_val), y_val),\n",
    "                m.score(X_train, y_train), m.score(X_val, y_val)]\n",
    "    return res"
   ]
  },
  {
   "cell_type": "code",
   "execution_count": 6,
   "metadata": {},
   "outputs": [],
   "source": [
    "df = dutils.loadData()\n",
    "X_train, y_train, X_val, y_val = dutils.getTrainTestSets(df)"
   ]
  },
  {
   "cell_type": "code",
   "execution_count": 16,
   "metadata": {},
   "outputs": [
    {
     "name": "stdout",
     "output_type": "stream",
     "text": [
      "Fitting 1 folds for each of 20480 candidates, totalling 20480 fits\n"
     ]
    },
    {
     "name": "stderr",
     "output_type": "stream",
     "text": [
      "[Parallel(n_jobs=1)]: Using backend SequentialBackend with 1 concurrent workers.\n",
      "[Parallel(n_jobs=1)]: Done 20480 out of 20480 | elapsed:  2.1min finished\n"
     ]
    },
    {
     "data": {
      "text/plain": [
       "GridSearchCV(cv=ShuffleSplit(n_splits=1, random_state=None, test_size=0.01, train_size=None),\n",
       "             estimator=BayesianRidge(compute_score=True),\n",
       "             param_grid={'alpha_1': [1e-08, 1e-07, 1e-06, 1e-05, 0.0001, 0.001,\n",
       "                                     0.01, 0.1],\n",
       "                         'alpha_2': [1e-08, 1e-07, 1e-06, 1e-05, 0.0001, 0.001,\n",
       "                                     0.01, 0.1],\n",
       "                         'lambda_1': [1e-08, 1e-07, 1e-06, 1e-05, 0.0001, 0.001,\n",
       "                                      0.01, 0.1],\n",
       "                         'lambda_2': [1e-08, 1e-07, 1e-06, 1e-05, 0.0001, 0.001,\n",
       "                                      0.01, 0.1],\n",
       "                         'n_iter': [30, 50, 100, 200, 300]},\n",
       "             return_train_score=True, verbose=1)"
      ]
     },
     "execution_count": 16,
     "metadata": {},
     "output_type": "execute_result"
    }
   ],
   "source": [
    "clf = BayesianRidge(compute_score=True)\n",
    "parameters = {\n",
    "    \"n_iter\": [30, 50, 100, 200, 300],\n",
    "    \"alpha_1\": [1e-8, 1e-7, 1e-6, 1e-5, 1e-4, 1e-3, 1e-2, 1e-1],\n",
    "    \"alpha_2\": [1e-8, 1e-7, 1e-6, 1e-5, 1e-4, 1e-3, 1e-2, 1e-1],\n",
    "    \"lambda_1\": [1e-8, 1e-7, 1e-6, 1e-5, 1e-4, 1e-3, 1e-2, 1e-1],\n",
    "    \"lambda_2\": [1e-8, 1e-7, 1e-6, 1e-5, 1e-4, 1e-3, 1e-2, 1e-1],    \n",
    "    }\n",
    "cv = ShuffleSplit(test_size=0.01, n_splits=1)\n",
    "grid = GridSearchCV(BayesianRidge(compute_score=True), parameters, cv=cv, verbose=1, return_train_score=True)\n",
    "grid.fit(X_train, y_train)"
   ]
  },
  {
   "cell_type": "code",
   "execution_count": 25,
   "metadata": {},
   "outputs": [
    {
     "data": {
      "text/plain": [
       "{'alpha_1': 1e-08,\n",
       " 'alpha_2': 0.1,\n",
       " 'lambda_1': 0.1,\n",
       " 'lambda_2': 1e-08,\n",
       " 'n_iter': 30}"
      ]
     },
     "execution_count": 25,
     "metadata": {},
     "output_type": "execute_result"
    }
   ],
   "source": [
    "grid.best_params_"
   ]
  },
  {
   "cell_type": "code",
   "execution_count": 20,
   "metadata": {},
   "outputs": [],
   "source": [
    "preds,std = grid.best_estimator_.predict(X_val, return_std=True)"
   ]
  },
  {
   "cell_type": "code",
   "execution_count": 21,
   "metadata": {},
   "outputs": [
    {
     "data": {
      "text/plain": [
       "0.9998175933593976"
      ]
     },
     "execution_count": 21,
     "metadata": {},
     "output_type": "execute_result"
    }
   ],
   "source": [
    "grid.best_estimator_.score(X_val, y_val)"
   ]
  },
  {
   "cell_type": "code",
   "execution_count": 22,
   "metadata": {},
   "outputs": [
    {
     "data": {
      "text/plain": [
       "[0.05474545913643631,\n",
       " 0.03494988221706945,\n",
       " 0.9999847996538863,\n",
       " 0.9998175933593976]"
      ]
     },
     "execution_count": 22,
     "metadata": {},
     "output_type": "execute_result"
    }
   ],
   "source": [
    "get_score(grid.best_estimator_)"
   ]
  },
  {
   "cell_type": "code",
   "execution_count": 24,
   "metadata": {},
   "outputs": [
    {
     "data": {
      "text/plain": [
       "(array([ 95.92288006,  96.34324094,  94.63926359,  93.42402384,\n",
       "         93.55860575,  92.22712107,  93.33400038,  93.48145113,\n",
       "         91.22687618,  89.91445115,  91.03108406,  91.92502802,\n",
       "         90.14447116,  92.62571746,  92.01708136,  91.97641011,\n",
       "         94.20978877,  93.6862123 ,  94.82054703,  95.60344819,\n",
       "         95.33853151,  94.53516676,  94.98980459,  96.68476328,\n",
       "         96.62891034,  98.07899899,  97.45258672,  97.24784389,\n",
       "         95.67853099,  91.60011057,  92.82771742,  90.69487939,\n",
       "         92.36140523,  94.18228887,  96.9768268 ,  97.19759717,\n",
       "         99.54254153, 101.00771928]),\n",
       " array([ 95.91,  96.37,  94.64,  93.4 ,  93.67,  92.17,  93.3 ,  93.5 ,\n",
       "         91.2 ,  89.92,  91.05,  91.91,  90.11,  92.64,  92.03,  91.95,\n",
       "         94.27,  93.65,  94.8 ,  95.59,  95.34,  94.54,  95.  ,  96.67,\n",
       "         96.65,  98.06,  97.44,  97.23,  95.68,  91.56,  92.8 ,  90.66,\n",
       "         92.26,  94.16,  96.95,  97.19,  99.5 , 101.  ]))"
      ]
     },
     "execution_count": 24,
     "metadata": {},
     "output_type": "execute_result"
    }
   ],
   "source": [
    "preds, y_val"
   ]
  },
  {
   "cell_type": "code",
   "execution_count": null,
   "metadata": {},
   "outputs": [],
   "source": []
  }
 ],
 "metadata": {
  "kernelspec": {
   "display_name": "Python [conda env:root] *",
   "language": "python",
   "name": "conda-root-py"
  },
  "language_info": {
   "codemirror_mode": {
    "name": "ipython",
    "version": 3
   },
   "file_extension": ".py",
   "mimetype": "text/x-python",
   "name": "python",
   "nbconvert_exporter": "python",
   "pygments_lexer": "ipython3",
   "version": "3.7.4"
  }
 },
 "nbformat": 4,
 "nbformat_minor": 4
}
