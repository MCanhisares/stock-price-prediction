{
 "cells": [
  {
   "cell_type": "code",
   "execution_count": 11,
   "metadata": {},
   "outputs": [
    {
     "name": "stdout",
     "output_type": "stream",
     "text": [
      "The autoreload extension is already loaded. To reload it, use:\n",
      "  %reload_ext autoreload\n"
     ]
    }
   ],
   "source": [
    "from __future__ import unicode_literals\n",
    "%load_ext autoreload\n",
    "%autoreload 2\n",
    "%matplotlib inline\n",
    "import pandas as pd\n",
    "import numpy as np\n",
    "from matplotlib import pyplot as plt\n",
    "from datetime import date as dt, timedelta\n",
    "from typing import List\n",
    "from google.cloud import firestore\n",
    "from functools import reduce\n",
    "import time\n",
    "import base64\n",
    "import sys\n",
    "import math"
   ]
  },
  {
   "cell_type": "code",
   "execution_count": 2,
   "metadata": {},
   "outputs": [
    {
     "name": "stdout",
     "output_type": "stream",
     "text": [
      "env: GOOGLE_APPLICATION_CREDENTIALS=\"/Users/marcelcanhisares/Development/tcc/keys/mc-tcc1-2893283b8dce.json\"\n"
     ]
    }
   ],
   "source": [
    "%env GOOGLE_APPLICATION_CREDENTIALS=\"/Users/marcelcanhisares/Development/tcc/keys/mc-tcc1-2893283b8dce.json\""
   ]
  },
  {
   "cell_type": "code",
   "execution_count": 3,
   "metadata": {},
   "outputs": [
    {
     "name": "stdout",
     "output_type": "stream",
     "text": [
      "mc-tcc1-2893283b8dce.json\n"
     ]
    }
   ],
   "source": [
    "%ls /Users/marcelcanhisares/Development/tcc/keys/"
   ]
  },
  {
   "cell_type": "code",
   "execution_count": 4,
   "metadata": {},
   "outputs": [],
   "source": [
    "DB = firestore.Client.from_service_account_json(\"/Users/marcelcanhisares/Development/tcc/keys/mc-tcc1-2893283b8dce.json\")"
   ]
  },
  {
   "cell_type": "code",
   "execution_count": 5,
   "metadata": {},
   "outputs": [],
   "source": [
    "collection = DB.collection('analytics').stream()"
   ]
  },
  {
   "cell_type": "code",
   "execution_count": 17,
   "metadata": {},
   "outputs": [],
   "source": [
    "mytime = datetime.strptime('0130','%H%M').time()"
   ]
  },
  {
   "cell_type": "code",
   "execution_count": 58,
   "metadata": {},
   "outputs": [
    {
     "data": {
      "text/plain": [
       "(datetime.datetime(2020, 6, 1, 0, 0), datetime.datetime(2020, 6, 2, 0, 0))"
      ]
     },
     "execution_count": 58,
     "metadata": {},
     "output_type": "execute_result"
    }
   ],
   "source": [
    "initialDate = datetime.strptime('Jun 1 2020  12:00AM', '%b %d %Y %I:%M%p')\n",
    "endDate = initialDate + timedelta(days=1)\n",
    "\n",
    "initialDate, endDate"
   ]
  },
  {
   "cell_type": "code",
   "execution_count": 59,
   "metadata": {},
   "outputs": [],
   "source": [
    "collection = DB.collection('tweets').where(\"date\", \">=\", initialDate).where(\"date\", \"<=\", endDate).order_by(\"date\", \"ASCENDING\").stream()"
   ]
  },
  {
   "cell_type": "code",
   "execution_count": 60,
   "metadata": {},
   "outputs": [],
   "source": [
    "tweets = []\n",
    "for document in collection:\n",
    "    tweets.append(document.to_dict())"
   ]
  },
  {
   "cell_type": "code",
   "execution_count": 61,
   "metadata": {},
   "outputs": [],
   "source": [
    "tweet_texts = []\n",
    "for tweet in tweets:\n",
    "    tweet_texts.append(tweet[\"full_text\"])"
   ]
  },
  {
   "cell_type": "code",
   "execution_count": 66,
   "metadata": {},
   "outputs": [
    {
     "data": {
      "text/plain": [
       "812"
      ]
     },
     "execution_count": 66,
     "metadata": {},
     "output_type": "execute_result"
    }
   ],
   "source": [
    "len(tweet_texts)"
   ]
  },
  {
   "cell_type": "code",
   "execution_count": 65,
   "metadata": {},
   "outputs": [],
   "source": [
    "no_dupes = list(set(tweet_texts))"
   ]
  },
  {
   "cell_type": "code",
   "execution_count": 67,
   "metadata": {},
   "outputs": [
    {
     "data": {
      "text/plain": [
       "689"
      ]
     },
     "execution_count": 67,
     "metadata": {},
     "output_type": "execute_result"
    }
   ],
   "source": [
    "len(no_dupes)"
   ]
  },
  {
   "cell_type": "code",
   "execution_count": 73,
   "metadata": {},
   "outputs": [
    {
     "data": {
      "text/plain": [
       "2"
      ]
     },
     "execution_count": 73,
     "metadata": {},
     "output_type": "execute_result"
    }
   ],
   "source": [
    "a = set()\n",
    "a.add(1)\n",
    "a.add(2)\n",
    "a.add(1)\n",
    "len(a)"
   ]
  },
  {
   "cell_type": "code",
   "execution_count": 74,
   "metadata": {},
   "outputs": [
    {
     "data": {
      "text/plain": [
       "16426"
      ]
     },
     "execution_count": 74,
     "metadata": {},
     "output_type": "execute_result"
    }
   ],
   "source": [
    "initialDate = datetime.strptime('May 1 2020  12:00AM', '%b %d %Y %I:%M%p')\n",
    "finalDate = datetime.strptime('Jun 1 2020  12:00AM', '%b %d %Y %I:%M%p')\n",
    "listCounts = []\n",
    "# while initialDate < finalDate:\n",
    "endDate = initialDate + timedelta(days=30)\n",
    "collection = DB.collection('tweets').where(\"date\", \">=\", initialDate).where(\"date\", \"<=\", endDate).order_by(\"date\", \"ASCENDING\").stream()\n",
    "tweets = set()\n",
    "for document in collection:\n",
    "    tweets.add(document.to_dict()[\"full_text\"])\n",
    "len(tweets)\n",
    "#     initialDate = initialDate + timedelta(days=1)\n"
   ]
  },
  {
   "cell_type": "code",
   "execution_count": null,
   "metadata": {},
   "outputs": [],
   "source": [
    "no_dupes"
   ]
  },
  {
   "cell_type": "code",
   "execution_count": 148,
   "metadata": {},
   "outputs": [],
   "source": [
    "from numpy.random import randint\n",
    "\n",
    "def getResultsForDay(date):\n",
    "    consolidated = list(randint(1, size=8))\n",
    "    numberofelements = 600\n",
    "    for i in range(0, 600):\n",
    "        results = list(randint(2, size=8))\n",
    "        consolidated = [sum(x) for x in zip(results, consolidated)]\n",
    "    consolidated[:] = [x / numberofelements for x in consolidated]\n",
    "    consolidated.append(date)\n",
    "    return consolidated"
   ]
  },
  {
   "cell_type": "code",
   "execution_count": 157,
   "metadata": {},
   "outputs": [
    {
     "data": {
      "text/html": [
       "<div>\n",
       "<style scoped>\n",
       "    .dataframe tbody tr th:only-of-type {\n",
       "        vertical-align: middle;\n",
       "    }\n",
       "\n",
       "    .dataframe tbody tr th {\n",
       "        vertical-align: top;\n",
       "    }\n",
       "\n",
       "    .dataframe thead th {\n",
       "        text-align: right;\n",
       "    }\n",
       "</style>\n",
       "<table border=\"1\" class=\"dataframe\">\n",
       "  <thead>\n",
       "    <tr style=\"text-align: right;\">\n",
       "      <th></th>\n",
       "      <th>JOY</th>\n",
       "      <th>SAD</th>\n",
       "      <th>TRU</th>\n",
       "      <th>DIS</th>\n",
       "      <th>ANT</th>\n",
       "      <th>SUR</th>\n",
       "      <th>ANG</th>\n",
       "      <th>FEA</th>\n",
       "      <th>date</th>\n",
       "    </tr>\n",
       "  </thead>\n",
       "  <tbody>\n",
       "  </tbody>\n",
       "</table>\n",
       "</div>"
      ],
      "text/plain": [
       "Empty DataFrame\n",
       "Columns: [JOY, SAD, TRU, DIS, ANT, SUR, ANG, FEA, date]\n",
       "Index: []"
      ]
     },
     "execution_count": 157,
     "metadata": {},
     "output_type": "execute_result"
    }
   ],
   "source": [
    "initialDate = datetime.strptime('May 1 2020  12:00AM', '%b %d %Y %I:%M%p')\n",
    "df = pd.DataFrame(columns=['JOY', 'SAD','TRU', 'DIS', 'ANT', 'SUR', 'ANG', 'FEA', 'date'])\n",
    "df"
   ]
  },
  {
   "cell_type": "code",
   "execution_count": 158,
   "metadata": {},
   "outputs": [],
   "source": [
    "from numpy.random import randint\n",
    "initialDate = datetime.strptime('May 1 2020  12:00AM', '%b %d %Y %I:%M%p')\n",
    "finalDate = datetime.strptime('May 25 2020  12:00AM', '%b %d %Y %I:%M%p')\n",
    "\n",
    "while initialDate < finalDate:     \n",
    "    df.loc[len(df)] = getResultsForDay(initialDate)\n",
    "    initialDate = initialDate + timedelta(days=1)\n"
   ]
  },
  {
   "cell_type": "code",
   "execution_count": 159,
   "metadata": {},
   "outputs": [
    {
     "data": {
      "text/html": [
       "<div>\n",
       "<style scoped>\n",
       "    .dataframe tbody tr th:only-of-type {\n",
       "        vertical-align: middle;\n",
       "    }\n",
       "\n",
       "    .dataframe tbody tr th {\n",
       "        vertical-align: top;\n",
       "    }\n",
       "\n",
       "    .dataframe thead th {\n",
       "        text-align: right;\n",
       "    }\n",
       "</style>\n",
       "<table border=\"1\" class=\"dataframe\">\n",
       "  <thead>\n",
       "    <tr style=\"text-align: right;\">\n",
       "      <th></th>\n",
       "      <th>JOY</th>\n",
       "      <th>SAD</th>\n",
       "      <th>TRU</th>\n",
       "      <th>DIS</th>\n",
       "      <th>ANT</th>\n",
       "      <th>SUR</th>\n",
       "      <th>ANG</th>\n",
       "      <th>FEA</th>\n",
       "      <th>date</th>\n",
       "    </tr>\n",
       "  </thead>\n",
       "  <tbody>\n",
       "    <tr>\n",
       "      <th>0</th>\n",
       "      <td>0.503333</td>\n",
       "      <td>0.533333</td>\n",
       "      <td>0.511667</td>\n",
       "      <td>0.520000</td>\n",
       "      <td>0.515000</td>\n",
       "      <td>0.493333</td>\n",
       "      <td>0.475000</td>\n",
       "      <td>0.463333</td>\n",
       "      <td>2020-05-01</td>\n",
       "    </tr>\n",
       "    <tr>\n",
       "      <th>1</th>\n",
       "      <td>0.518333</td>\n",
       "      <td>0.480000</td>\n",
       "      <td>0.531667</td>\n",
       "      <td>0.550000</td>\n",
       "      <td>0.520000</td>\n",
       "      <td>0.493333</td>\n",
       "      <td>0.475000</td>\n",
       "      <td>0.470000</td>\n",
       "      <td>2020-05-02</td>\n",
       "    </tr>\n",
       "    <tr>\n",
       "      <th>2</th>\n",
       "      <td>0.503333</td>\n",
       "      <td>0.528333</td>\n",
       "      <td>0.528333</td>\n",
       "      <td>0.531667</td>\n",
       "      <td>0.461667</td>\n",
       "      <td>0.501667</td>\n",
       "      <td>0.491667</td>\n",
       "      <td>0.486667</td>\n",
       "      <td>2020-05-03</td>\n",
       "    </tr>\n",
       "    <tr>\n",
       "      <th>3</th>\n",
       "      <td>0.503333</td>\n",
       "      <td>0.498333</td>\n",
       "      <td>0.501667</td>\n",
       "      <td>0.495000</td>\n",
       "      <td>0.493333</td>\n",
       "      <td>0.458333</td>\n",
       "      <td>0.531667</td>\n",
       "      <td>0.478333</td>\n",
       "      <td>2020-05-04</td>\n",
       "    </tr>\n",
       "    <tr>\n",
       "      <th>4</th>\n",
       "      <td>0.508333</td>\n",
       "      <td>0.503333</td>\n",
       "      <td>0.483333</td>\n",
       "      <td>0.475000</td>\n",
       "      <td>0.510000</td>\n",
       "      <td>0.510000</td>\n",
       "      <td>0.521667</td>\n",
       "      <td>0.496667</td>\n",
       "      <td>2020-05-05</td>\n",
       "    </tr>\n",
       "    <tr>\n",
       "      <th>5</th>\n",
       "      <td>0.465000</td>\n",
       "      <td>0.501667</td>\n",
       "      <td>0.526667</td>\n",
       "      <td>0.511667</td>\n",
       "      <td>0.496667</td>\n",
       "      <td>0.491667</td>\n",
       "      <td>0.503333</td>\n",
       "      <td>0.515000</td>\n",
       "      <td>2020-05-06</td>\n",
       "    </tr>\n",
       "    <tr>\n",
       "      <th>6</th>\n",
       "      <td>0.486667</td>\n",
       "      <td>0.496667</td>\n",
       "      <td>0.495000</td>\n",
       "      <td>0.505000</td>\n",
       "      <td>0.516667</td>\n",
       "      <td>0.526667</td>\n",
       "      <td>0.470000</td>\n",
       "      <td>0.475000</td>\n",
       "      <td>2020-05-07</td>\n",
       "    </tr>\n",
       "    <tr>\n",
       "      <th>7</th>\n",
       "      <td>0.470000</td>\n",
       "      <td>0.478333</td>\n",
       "      <td>0.493333</td>\n",
       "      <td>0.518333</td>\n",
       "      <td>0.460000</td>\n",
       "      <td>0.498333</td>\n",
       "      <td>0.515000</td>\n",
       "      <td>0.491667</td>\n",
       "      <td>2020-05-08</td>\n",
       "    </tr>\n",
       "    <tr>\n",
       "      <th>8</th>\n",
       "      <td>0.513333</td>\n",
       "      <td>0.485000</td>\n",
       "      <td>0.546667</td>\n",
       "      <td>0.496667</td>\n",
       "      <td>0.523333</td>\n",
       "      <td>0.486667</td>\n",
       "      <td>0.485000</td>\n",
       "      <td>0.526667</td>\n",
       "      <td>2020-05-09</td>\n",
       "    </tr>\n",
       "    <tr>\n",
       "      <th>9</th>\n",
       "      <td>0.521667</td>\n",
       "      <td>0.493333</td>\n",
       "      <td>0.500000</td>\n",
       "      <td>0.508333</td>\n",
       "      <td>0.496667</td>\n",
       "      <td>0.506667</td>\n",
       "      <td>0.476667</td>\n",
       "      <td>0.498333</td>\n",
       "      <td>2020-05-10</td>\n",
       "    </tr>\n",
       "    <tr>\n",
       "      <th>10</th>\n",
       "      <td>0.510000</td>\n",
       "      <td>0.483333</td>\n",
       "      <td>0.526667</td>\n",
       "      <td>0.510000</td>\n",
       "      <td>0.486667</td>\n",
       "      <td>0.506667</td>\n",
       "      <td>0.493333</td>\n",
       "      <td>0.476667</td>\n",
       "      <td>2020-05-11</td>\n",
       "    </tr>\n",
       "    <tr>\n",
       "      <th>11</th>\n",
       "      <td>0.498333</td>\n",
       "      <td>0.526667</td>\n",
       "      <td>0.490000</td>\n",
       "      <td>0.518333</td>\n",
       "      <td>0.501667</td>\n",
       "      <td>0.486667</td>\n",
       "      <td>0.486667</td>\n",
       "      <td>0.496667</td>\n",
       "      <td>2020-05-12</td>\n",
       "    </tr>\n",
       "    <tr>\n",
       "      <th>12</th>\n",
       "      <td>0.528333</td>\n",
       "      <td>0.501667</td>\n",
       "      <td>0.518333</td>\n",
       "      <td>0.531667</td>\n",
       "      <td>0.498333</td>\n",
       "      <td>0.493333</td>\n",
       "      <td>0.485000</td>\n",
       "      <td>0.520000</td>\n",
       "      <td>2020-05-13</td>\n",
       "    </tr>\n",
       "    <tr>\n",
       "      <th>13</th>\n",
       "      <td>0.531667</td>\n",
       "      <td>0.453333</td>\n",
       "      <td>0.483333</td>\n",
       "      <td>0.471667</td>\n",
       "      <td>0.495000</td>\n",
       "      <td>0.496667</td>\n",
       "      <td>0.520000</td>\n",
       "      <td>0.480000</td>\n",
       "      <td>2020-05-14</td>\n",
       "    </tr>\n",
       "    <tr>\n",
       "      <th>14</th>\n",
       "      <td>0.506667</td>\n",
       "      <td>0.490000</td>\n",
       "      <td>0.536667</td>\n",
       "      <td>0.483333</td>\n",
       "      <td>0.483333</td>\n",
       "      <td>0.486667</td>\n",
       "      <td>0.526667</td>\n",
       "      <td>0.473333</td>\n",
       "      <td>2020-05-15</td>\n",
       "    </tr>\n",
       "    <tr>\n",
       "      <th>15</th>\n",
       "      <td>0.506667</td>\n",
       "      <td>0.495000</td>\n",
       "      <td>0.510000</td>\n",
       "      <td>0.496667</td>\n",
       "      <td>0.513333</td>\n",
       "      <td>0.496667</td>\n",
       "      <td>0.503333</td>\n",
       "      <td>0.526667</td>\n",
       "      <td>2020-05-16</td>\n",
       "    </tr>\n",
       "    <tr>\n",
       "      <th>16</th>\n",
       "      <td>0.500000</td>\n",
       "      <td>0.488333</td>\n",
       "      <td>0.505000</td>\n",
       "      <td>0.481667</td>\n",
       "      <td>0.520000</td>\n",
       "      <td>0.488333</td>\n",
       "      <td>0.478333</td>\n",
       "      <td>0.523333</td>\n",
       "      <td>2020-05-17</td>\n",
       "    </tr>\n",
       "    <tr>\n",
       "      <th>17</th>\n",
       "      <td>0.516667</td>\n",
       "      <td>0.491667</td>\n",
       "      <td>0.531667</td>\n",
       "      <td>0.490000</td>\n",
       "      <td>0.498333</td>\n",
       "      <td>0.475000</td>\n",
       "      <td>0.515000</td>\n",
       "      <td>0.505000</td>\n",
       "      <td>2020-05-18</td>\n",
       "    </tr>\n",
       "    <tr>\n",
       "      <th>18</th>\n",
       "      <td>0.513333</td>\n",
       "      <td>0.521667</td>\n",
       "      <td>0.498333</td>\n",
       "      <td>0.498333</td>\n",
       "      <td>0.526667</td>\n",
       "      <td>0.553333</td>\n",
       "      <td>0.513333</td>\n",
       "      <td>0.491667</td>\n",
       "      <td>2020-05-19</td>\n",
       "    </tr>\n",
       "    <tr>\n",
       "      <th>19</th>\n",
       "      <td>0.483333</td>\n",
       "      <td>0.515000</td>\n",
       "      <td>0.505000</td>\n",
       "      <td>0.511667</td>\n",
       "      <td>0.471667</td>\n",
       "      <td>0.495000</td>\n",
       "      <td>0.503333</td>\n",
       "      <td>0.543333</td>\n",
       "      <td>2020-05-20</td>\n",
       "    </tr>\n",
       "    <tr>\n",
       "      <th>20</th>\n",
       "      <td>0.498333</td>\n",
       "      <td>0.480000</td>\n",
       "      <td>0.515000</td>\n",
       "      <td>0.490000</td>\n",
       "      <td>0.478333</td>\n",
       "      <td>0.485000</td>\n",
       "      <td>0.506667</td>\n",
       "      <td>0.525000</td>\n",
       "      <td>2020-05-21</td>\n",
       "    </tr>\n",
       "    <tr>\n",
       "      <th>21</th>\n",
       "      <td>0.518333</td>\n",
       "      <td>0.521667</td>\n",
       "      <td>0.468333</td>\n",
       "      <td>0.486667</td>\n",
       "      <td>0.520000</td>\n",
       "      <td>0.475000</td>\n",
       "      <td>0.491667</td>\n",
       "      <td>0.483333</td>\n",
       "      <td>2020-05-22</td>\n",
       "    </tr>\n",
       "    <tr>\n",
       "      <th>22</th>\n",
       "      <td>0.491667</td>\n",
       "      <td>0.508333</td>\n",
       "      <td>0.523333</td>\n",
       "      <td>0.508333</td>\n",
       "      <td>0.485000</td>\n",
       "      <td>0.501667</td>\n",
       "      <td>0.511667</td>\n",
       "      <td>0.465000</td>\n",
       "      <td>2020-05-23</td>\n",
       "    </tr>\n",
       "    <tr>\n",
       "      <th>23</th>\n",
       "      <td>0.490000</td>\n",
       "      <td>0.500000</td>\n",
       "      <td>0.493333</td>\n",
       "      <td>0.481667</td>\n",
       "      <td>0.560000</td>\n",
       "      <td>0.498333</td>\n",
       "      <td>0.491667</td>\n",
       "      <td>0.480000</td>\n",
       "      <td>2020-05-24</td>\n",
       "    </tr>\n",
       "  </tbody>\n",
       "</table>\n",
       "</div>"
      ],
      "text/plain": [
       "         JOY       SAD       TRU       DIS       ANT       SUR       ANG  \\\n",
       "0   0.503333  0.533333  0.511667  0.520000  0.515000  0.493333  0.475000   \n",
       "1   0.518333  0.480000  0.531667  0.550000  0.520000  0.493333  0.475000   \n",
       "2   0.503333  0.528333  0.528333  0.531667  0.461667  0.501667  0.491667   \n",
       "3   0.503333  0.498333  0.501667  0.495000  0.493333  0.458333  0.531667   \n",
       "4   0.508333  0.503333  0.483333  0.475000  0.510000  0.510000  0.521667   \n",
       "5   0.465000  0.501667  0.526667  0.511667  0.496667  0.491667  0.503333   \n",
       "6   0.486667  0.496667  0.495000  0.505000  0.516667  0.526667  0.470000   \n",
       "7   0.470000  0.478333  0.493333  0.518333  0.460000  0.498333  0.515000   \n",
       "8   0.513333  0.485000  0.546667  0.496667  0.523333  0.486667  0.485000   \n",
       "9   0.521667  0.493333  0.500000  0.508333  0.496667  0.506667  0.476667   \n",
       "10  0.510000  0.483333  0.526667  0.510000  0.486667  0.506667  0.493333   \n",
       "11  0.498333  0.526667  0.490000  0.518333  0.501667  0.486667  0.486667   \n",
       "12  0.528333  0.501667  0.518333  0.531667  0.498333  0.493333  0.485000   \n",
       "13  0.531667  0.453333  0.483333  0.471667  0.495000  0.496667  0.520000   \n",
       "14  0.506667  0.490000  0.536667  0.483333  0.483333  0.486667  0.526667   \n",
       "15  0.506667  0.495000  0.510000  0.496667  0.513333  0.496667  0.503333   \n",
       "16  0.500000  0.488333  0.505000  0.481667  0.520000  0.488333  0.478333   \n",
       "17  0.516667  0.491667  0.531667  0.490000  0.498333  0.475000  0.515000   \n",
       "18  0.513333  0.521667  0.498333  0.498333  0.526667  0.553333  0.513333   \n",
       "19  0.483333  0.515000  0.505000  0.511667  0.471667  0.495000  0.503333   \n",
       "20  0.498333  0.480000  0.515000  0.490000  0.478333  0.485000  0.506667   \n",
       "21  0.518333  0.521667  0.468333  0.486667  0.520000  0.475000  0.491667   \n",
       "22  0.491667  0.508333  0.523333  0.508333  0.485000  0.501667  0.511667   \n",
       "23  0.490000  0.500000  0.493333  0.481667  0.560000  0.498333  0.491667   \n",
       "\n",
       "         FEA       date  \n",
       "0   0.463333 2020-05-01  \n",
       "1   0.470000 2020-05-02  \n",
       "2   0.486667 2020-05-03  \n",
       "3   0.478333 2020-05-04  \n",
       "4   0.496667 2020-05-05  \n",
       "5   0.515000 2020-05-06  \n",
       "6   0.475000 2020-05-07  \n",
       "7   0.491667 2020-05-08  \n",
       "8   0.526667 2020-05-09  \n",
       "9   0.498333 2020-05-10  \n",
       "10  0.476667 2020-05-11  \n",
       "11  0.496667 2020-05-12  \n",
       "12  0.520000 2020-05-13  \n",
       "13  0.480000 2020-05-14  \n",
       "14  0.473333 2020-05-15  \n",
       "15  0.526667 2020-05-16  \n",
       "16  0.523333 2020-05-17  \n",
       "17  0.505000 2020-05-18  \n",
       "18  0.491667 2020-05-19  \n",
       "19  0.543333 2020-05-20  \n",
       "20  0.525000 2020-05-21  \n",
       "21  0.483333 2020-05-22  \n",
       "22  0.465000 2020-05-23  \n",
       "23  0.480000 2020-05-24  "
      ]
     },
     "execution_count": 159,
     "metadata": {},
     "output_type": "execute_result"
    }
   ],
   "source": [
    "df"
   ]
  },
  {
   "cell_type": "code",
   "execution_count": null,
   "metadata": {},
   "outputs": [],
   "source": [
    "to_be_uploaded = df.to_dict('records')\n",
    "to_be_uploaded"
   ]
  },
  {
   "cell_type": "code",
   "execution_count": 156,
   "metadata": {},
   "outputs": [],
   "source": [
    "collection = DB.collection('daily_emotions')\n",
    "for up in to_be_uploaded:\n",
    "    collection.add(up, up[\"date\"].strftime('%Y-%m-%d'))"
   ]
  },
  {
   "cell_type": "code",
   "execution_count": null,
   "metadata": {},
   "outputs": [],
   "source": []
  }
 ],
 "metadata": {
  "kernelspec": {
   "display_name": "Python 3",
   "language": "python",
   "name": "python3"
  },
  "language_info": {
   "codemirror_mode": {
    "name": "ipython",
    "version": 3
   },
   "file_extension": ".py",
   "mimetype": "text/x-python",
   "name": "python",
   "nbconvert_exporter": "python",
   "pygments_lexer": "ipython3",
   "version": "3.7.4"
  }
 },
 "nbformat": 4,
 "nbformat_minor": 4
}
